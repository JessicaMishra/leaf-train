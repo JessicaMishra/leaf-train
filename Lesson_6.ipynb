{
  "nbformat": 4,
  "nbformat_minor": 0,
  "metadata": {
    "colab": {
      "name": "Lesson 6.ipynb",
      "provenance": [],
      "authorship_tag": "ABX9TyOHK4A1Dn9PHbhgqfVX91uO",
      "include_colab_link": true
    },
    "kernelspec": {
      "name": "python3",
      "display_name": "Python 3"
    }
  },
  "cells": [
    {
      "cell_type": "markdown",
      "metadata": {
        "id": "view-in-github",
        "colab_type": "text"
      },
      "source": [
        "<a href=\"https://colab.research.google.com/github/JessicaMishra/leaf-train/blob/master/Lesson_6.ipynb\" target=\"_parent\"><img src=\"https://colab.research.google.com/assets/colab-badge.svg\" alt=\"Open In Colab\"/></a>"
      ]
    },
    {
      "cell_type": "code",
      "metadata": {
        "id": "RInu96WhAwPb",
        "colab_type": "code",
        "colab": {}
      },
      "source": [
        ""
      ],
      "execution_count": null,
      "outputs": []
    },
    {
      "cell_type": "markdown",
      "metadata": {
        "id": "j4mQSd-bBxhR",
        "colab_type": "text"
      },
      "source": [
        "**What is neuron?**\n",
        "\n",
        "**Neuron Image**\n",
        "\n",
        "Neurons are the basic organizational units of the brain and nervous system. Neurons form the bulk of all nervous tissue and are what allow nervous tissue to conduct electrical signals that allow parts of the body to communicate with each other. Neurons are the cells that are responsible for receiving sensory input from the outside world, sending motor commands to move parts of the body, forming memories in the brain, and more. Virtually every aspect of our experiential life and engagement with the world is mediated by the activity of neurons.\n",
        "\n",
        "The human brain is estimated to contain over 100 billion neurons with each neuron having, on average, connections to 1000 other neurons. This vast connectional architecture explains that computational complexity of the human brain. Neurons communicate with each other by generating and conducting electrical signals. The constant electrical signaling is the physical correlate for our thoughts, emotion, feelings, sensory experiences, etc.\n",
        "\n"
      ]
    },
    {
      "cell_type": "markdown",
      "metadata": {
        "id": "oCw7eOOfB8k5",
        "colab_type": "text"
      },
      "source": [
        "**Parts Of A Neuron**\n",
        "\n",
        "All neurons share a few basic anatomical features."
      ]
    },
    {
      "cell_type": "markdown",
      "metadata": {
        "id": "OcgX2EiGCGBM",
        "colab_type": "text"
      },
      "source": [
        "**Neural networks: a brief history**\n",
        "\n",
        "In 1943 Warren McCulloch, a neurophysiologist, and Walter Pitts, a logician, teamed up to develop a mathematical model of an artificial neuron. They declared that:\n",
        "\n",
        "Because of the “all-or-none” character of nervous activity, neural events and the relations among them can be treated by means of propositional logic. It is found that the behavior of every net can be described in these terms. (Pitts and McCulloch; A Logical Calculus of the Ideas Immanent in Nervous Activity)\n",
        "\n",
        "The realised that a simplified model of a real neuron could be represented using simple addition and thresholding. Pitts was an autodidact who, by age 12, had received an offer to study at Cambridge with the great Bertrand Russell. He did not take up this invitation, and indeed throughout his life did not accept any offers of advanced degrees or positions of authority. Most of his famous work was done whilst he was homeless. Despite his lack of an officially recognized position, and increasing social isolation, his work with McCulloch was influential, and was picked up by a psychologist named Frank Rosenblatt.\n",
        "\n",
        "Rosenblatt further developed the artificial neuron to give it the ability to learn. Even more importantly, he worked on building the first device that actually used these principles: The Mark I Perceptron. Rosenblatt wrote about this work: “we are about to witness the birth of such a machine – a machine capable of perceiving, recognizing and identifying its surroundings without any human training or control”. The perceptron was built, and was able to successfully recognize simple shapes."
      ]
    },
    {
      "cell_type": "markdown",
      "metadata": {
        "id": "_i549p1zCQN-",
        "colab_type": "text"
      },
      "source": [
        "**All or None principle**<br>\n",
        "The all-or-none law is a principle that states that the strength of a response of a nerve cell or muscle fiber is not dependent upon the strength of the stimulus. If a stimulus is above a certain threshold, a nerve or muscle fiber will fire. Essentially, there will either be a full response or there will be no response at all for an individual neuron or muscle fiber."
      ]
    },
    {
      "cell_type": "code",
      "metadata": {
        "id": "MFSEXfp6GRmv",
        "colab_type": "code",
        "colab": {}
      },
      "source": [
        "from google.colab.patches import cv2_imshow"
      ],
      "execution_count": 1,
      "outputs": []
    },
    {
      "cell_type": "code",
      "metadata": {
        "id": "IndNV4NbKxaU",
        "colab_type": "code",
        "colab": {}
      },
      "source": [
        ""
      ],
      "execution_count": null,
      "outputs": []
    },
    {
      "cell_type": "markdown",
      "metadata": {
        "id": "CftSZ_73MVOx",
        "colab_type": "text"
      },
      "source": [
        "![alt text](https://drive.google.com/file/d/1avAlSRxQxjA2q6i_LKDoUT8v7U72cq-A/view?usp=sharing)"
      ]
    },
    {
      "cell_type": "code",
      "metadata": {
        "id": "gflw5Yc9Md6Y",
        "colab_type": "code",
        "colab": {}
      },
      "source": [
        ""
      ],
      "execution_count": null,
      "outputs": []
    }
  ]
}